{
  "nbformat": 4,
  "nbformat_minor": 0,
  "metadata": {
    "accelerator": "GPU",
    "colab": {
      "name": "CNN_fashion_mnist.ipynb",
      "provenance": [],
      "collapsed_sections": [],
      "authorship_tag": "ABX9TyOk4xK/b/rfMbVSD/RpNoJt",
      "include_colab_link": true
    },
    "kernelspec": {
      "display_name": "Python 3",
      "name": "python3"
    },
    "language_info": {
      "name": "python"
    }
  },
  "cells": [
    {
      "cell_type": "markdown",
      "metadata": {
        "id": "view-in-github",
        "colab_type": "text"
      },
      "source": [
        "<a href=\"https://colab.research.google.com/github/jangidprashantjee185045/CNN-Computer_Vision/blob/project1/CNN_fashion_mnist.ipynb\" target=\"_parent\"><img src=\"https://colab.research.google.com/assets/colab-badge.svg\" alt=\"Open In Colab\"/></a>"
      ]
    },
    {
      "cell_type": "code",
      "metadata": {
        "id": "zxUFAqhCPYfl"
      },
      "source": [
        "import numpy as np\n",
        "import pandas as pd\n",
        "import matplotlib  as mpl\n",
        "import matplotlib.pyplot as plt"
      ],
      "execution_count": 1,
      "outputs": []
    },
    {
      "cell_type": "code",
      "metadata": {
        "id": "0fQ2sJbV1VQL"
      },
      "source": [
        "import tensorflow as tf\n",
        "from tensorflow import keras"
      ],
      "execution_count": 2,
      "outputs": []
    },
    {
      "cell_type": "code",
      "metadata": {
        "colab": {
          "base_uri": "https://localhost:8080/"
        },
        "id": "2xBkDdHm1bpO",
        "outputId": "c660e3bc-81f0-4aac-8ea6-6434bceb1813"
      },
      "source": [
        "fashion_mnist=keras.datasets.fashion_mnist\n",
        "(X_train_full,y_train_full),(X_test,y_test)=fashion_mnist.load_data()"
      ],
      "execution_count": 3,
      "outputs": [
        {
          "output_type": "stream",
          "text": [
            "Downloading data from https://storage.googleapis.com/tensorflow/tf-keras-datasets/train-labels-idx1-ubyte.gz\n",
            "32768/29515 [=================================] - 0s 0us/step\n",
            "Downloading data from https://storage.googleapis.com/tensorflow/tf-keras-datasets/train-images-idx3-ubyte.gz\n",
            "26427392/26421880 [==============================] - 0s 0us/step\n",
            "Downloading data from https://storage.googleapis.com/tensorflow/tf-keras-datasets/t10k-labels-idx1-ubyte.gz\n",
            "8192/5148 [===============================================] - 0s 0us/step\n",
            "Downloading data from https://storage.googleapis.com/tensorflow/tf-keras-datasets/t10k-images-idx3-ubyte.gz\n",
            "4423680/4422102 [==============================] - 0s 0us/step\n"
          ],
          "name": "stdout"
        }
      ]
    },
    {
      "cell_type": "code",
      "metadata": {
        "colab": {
          "base_uri": "https://localhost:8080/"
        },
        "id": "noE-N0cE2DhF",
        "outputId": "64567cdf-5a38-4132-aa19-c9742884f0bb"
      },
      "source": [
        "X_train_full.shape"
      ],
      "execution_count": 5,
      "outputs": [
        {
          "output_type": "execute_result",
          "data": {
            "text/plain": [
              "(60000, 28, 28)"
            ]
          },
          "metadata": {
            "tags": []
          },
          "execution_count": 5
        }
      ]
    },
    {
      "cell_type": "code",
      "metadata": {
        "colab": {
          "base_uri": "https://localhost:8080/"
        },
        "id": "QkhiScSG2HF2",
        "outputId": "a43e5c8b-d881-47be-c6f0-90a972e5e0d3"
      },
      "source": [
        "X_test.shape"
      ],
      "execution_count": 6,
      "outputs": [
        {
          "output_type": "execute_result",
          "data": {
            "text/plain": [
              "(10000, 28, 28)"
            ]
          },
          "metadata": {
            "tags": []
          },
          "execution_count": 6
        }
      ]
    },
    {
      "cell_type": "code",
      "metadata": {
        "id": "U18vc2Hg2NdU"
      },
      "source": [
        "class_names=[\"Tshirt/Top\",\"Trouser\",\"Pullover\",\"Dress\",\"Coat\",\"Sandal\",\"Shirt\",\"Sneaker\",\"Bag\",\"Ankle boot\"]"
      ],
      "execution_count": 7,
      "outputs": []
    },
    {
      "cell_type": "code",
      "metadata": {
        "colab": {
          "base_uri": "https://localhost:8080/",
          "height": 282
        },
        "id": "L8eB18313N3O",
        "outputId": "d283b7f9-1f90-4979-caf3-a12a1388921c"
      },
      "source": [
        "plt.imshow(X_train_full[0])"
      ],
      "execution_count": 8,
      "outputs": [
        {
          "output_type": "execute_result",
          "data": {
            "text/plain": [
              "<matplotlib.image.AxesImage at 0x7fbfd6b9ae50>"
            ]
          },
          "metadata": {
            "tags": []
          },
          "execution_count": 8
        },
        {
          "output_type": "display_data",
          "data": {
            "image/png": "[encoded data removed]",
            "text/plain": [
              "<Figure size 432x288 with 1 Axes>"
            ]
          },
          "metadata": {
            "tags": [],
            "needs_background": "light"
          }
        }
      ]
    },
    {
      "cell_type": "code",
      "metadata": {
        "colab": {
          "base_uri": "https://localhost:8080/"
        },
        "id": "91y6ZcPM3Q7-",
        "outputId": "cb1a8460-f11c-4796-c2bd-e85803074640"
      },
      "source": [
        "y_train_full[0]"
      ],
      "execution_count": 9,
      "outputs": [
        {
          "output_type": "execute_result",
          "data": {
            "text/plain": [
              "9"
            ]
          },
          "metadata": {
            "tags": []
          },
          "execution_count": 9
        }
      ]
    },
    {
      "cell_type": "code",
      "metadata": {
        "id": "Q5f4Mg9D3sEh"
      },
      "source": [
        "X_train_full=X_train_full.reshape((60000,28,28,1))\n",
        "X_test=X_test.reshape((10000,28,28,1))"
      ],
      "execution_count": 10,
      "outputs": []
    },
    {
      "cell_type": "code",
      "metadata": {
        "id": "8SBGAYao37zD"
      },
      "source": [
        "X_train_full=X_train_full/255.0\n",
        "X_test=X_test/255.0"
      ],
      "execution_count": 11,
      "outputs": []
    },
    {
      "cell_type": "code",
      "metadata": {
        "id": "LV15n0f14FAk"
      },
      "source": [
        ""
      ],
      "execution_count": 13,
      "outputs": []
    },
    {
      "cell_type": "code",
      "metadata": {
        "id": "Tg80T9Qg4IGA"
      },
      "source": [
        "X_valid,X_train=X_train_full[:5000],X_train_full[5000:]\n",
        "y_valid,y_train=y_train_full[:5000],y_train_full[5000:]\n",
        "X_test=X_test"
      ],
      "execution_count": 16,
      "outputs": []
    },
    {
      "cell_type": "code",
      "metadata": {
        "id": "Gk0AlPmo4ZF8"
      },
      "source": [
        "np.random.seed(42)\n",
        "tf.random.set_seed(42)"
      ],
      "execution_count": 17,
      "outputs": []
    },
    {
      "cell_type": "code",
      "metadata": {
        "id": "mwnjnkgF4u34"
      },
      "source": [
        "model=keras.models.Sequential()\n",
        "model.add(keras.layers.Conv2D(filters=32,kernel_size=(3,3),strides=1,padding='valid',activation='relu',input_shape=(28,28,1)))\n",
        "model.add(keras.layers.MaxPooling2D((2,2)))\n",
        "model.add(keras.layers.Flatten())\n",
        "model.add(keras.layers.Dense(300,activation='relu'))\n",
        "model.add(keras.layers.Dense(100,activation='relu'))\n",
        "model.add(keras.layers.Dense(10,activation='softmax')) "
      ],
      "execution_count": 20,
      "outputs": []
    },
    {
      "cell_type": "code",
      "metadata": {
        "colab": {
          "base_uri": "https://localhost:8080/"
        },
        "id": "Kn6M5B2x6tUt",
        "outputId": "886e2d3c-fe5f-43e9-9274-8178c975af94"
      },
      "source": [
        "model.summary()"
      ],
      "execution_count": 21,
      "outputs": [
        {
          "output_type": "stream",
          "text": [
            "Model: \"sequential_1\"\n",
            "_________________________________________________________________\n",
            "Layer (type)                 Output Shape              Param #   \n",
            "=================================================================\n",
            "conv2d_1 (Conv2D)            (None, 26, 26, 32)        320       \n",
            "_________________________________________________________________\n",
            "max_pooling2d_1 (MaxPooling2 (None, 13, 13, 32)        0         \n",
            "_________________________________________________________________\n",
            "flatten (Flatten)            (None, 5408)              0         \n",
            "_________________________________________________________________\n",
            "dense_3 (Dense)              (None, 300)               1622700   \n",
            "_________________________________________________________________\n",
            "dense_4 (Dense)              (None, 100)               30100     \n",
            "_________________________________________________________________\n",
            "dense_5 (Dense)              (None, 10)                1010      \n",
            "=================================================================\n",
            "Total params: 1,654,130\n",
            "Trainable params: 1,654,130\n",
            "Non-trainable params: 0\n",
            "_________________________________________________________________\n"
          ],
          "name": "stdout"
        }
      ]
    },
    {
      "cell_type": "code",
      "metadata": {
        "id": "Us50AgiI6yd7"
      },
      "source": [
        "model.compile(loss=\"sparse_categorical_crossentropy\",\n",
        "              optimizer=\"sgd\",\n",
        "              metrics=[\"accuracy\"])"
      ],
      "execution_count": 25,
      "outputs": []
    },
    {
      "cell_type": "code",
      "metadata": {
        "colab": {
          "base_uri": "https://localhost:8080/"
        },
        "id": "333t-LUO7m80",
        "outputId": "be38bf22-8890-49ed-daea-aa80b7414d28"
      },
      "source": [
        "model_history=model.fit(X_train,y_train,epochs=30,batch_size=64,validation_data=(X_valid,y_valid))"
      ],
      "execution_count": 26,
      "outputs": [
        {
          "output_type": "stream",
          "text": [
            "Epoch 1/30\n",
            "860/860 [==============================] - 34s 3ms/step - loss: 0.8473 - accuracy: 0.7083 - val_loss: 0.8009 - val_accuracy: 0.7060\n",
            "Epoch 2/30\n",
            "860/860 [==============================] - 3s 3ms/step - loss: 0.5363 - accuracy: 0.8065 - val_loss: 0.4964 - val_accuracy: 0.8080\n",
            "Epoch 3/30\n",
            "860/860 [==============================] - 3s 3ms/step - loss: 0.4792 - accuracy: 0.8265 - val_loss: 0.9491 - val_accuracy: 0.6982\n",
            "Epoch 4/30\n",
            "860/860 [==============================] - 3s 3ms/step - loss: 0.4427 - accuracy: 0.8417 - val_loss: 0.4178 - val_accuracy: 0.8544\n",
            "Epoch 5/30\n",
            "860/860 [==============================] - 3s 3ms/step - loss: 0.4189 - accuracy: 0.8492 - val_loss: 0.4288 - val_accuracy: 0.8484\n",
            "Epoch 6/30\n",
            "860/860 [==============================] - 3s 3ms/step - loss: 0.3956 - accuracy: 0.8579 - val_loss: 0.3768 - val_accuracy: 0.8684\n",
            "Epoch 7/30\n",
            "860/860 [==============================] - 3s 3ms/step - loss: 0.3785 - accuracy: 0.8652 - val_loss: 0.4083 - val_accuracy: 0.8534\n",
            "Epoch 8/30\n",
            "860/860 [==============================] - 3s 3ms/step - loss: 0.3635 - accuracy: 0.8691 - val_loss: 0.5060 - val_accuracy: 0.8154\n",
            "Epoch 9/30\n",
            "860/860 [==============================] - 3s 3ms/step - loss: 0.3497 - accuracy: 0.8733 - val_loss: 0.3572 - val_accuracy: 0.8726\n",
            "Epoch 10/30\n",
            "860/860 [==============================] - 3s 3ms/step - loss: 0.3376 - accuracy: 0.8781 - val_loss: 0.3862 - val_accuracy: 0.8556\n",
            "Epoch 11/30\n",
            "860/860 [==============================] - 3s 3ms/step - loss: 0.3250 - accuracy: 0.8807 - val_loss: 0.3460 - val_accuracy: 0.8760\n",
            "Epoch 12/30\n",
            "860/860 [==============================] - 3s 3ms/step - loss: 0.3138 - accuracy: 0.8856 - val_loss: 0.3251 - val_accuracy: 0.8822\n",
            "Epoch 13/30\n",
            "860/860 [==============================] - 3s 3ms/step - loss: 0.3065 - accuracy: 0.8881 - val_loss: 0.3323 - val_accuracy: 0.8810\n",
            "Epoch 14/30\n",
            "860/860 [==============================] - 3s 3ms/step - loss: 0.2974 - accuracy: 0.8916 - val_loss: 0.3738 - val_accuracy: 0.8602\n",
            "Epoch 15/30\n",
            "860/860 [==============================] - 3s 3ms/step - loss: 0.2898 - accuracy: 0.8956 - val_loss: 0.4082 - val_accuracy: 0.8534\n",
            "Epoch 16/30\n",
            "860/860 [==============================] - 3s 3ms/step - loss: 0.2838 - accuracy: 0.8973 - val_loss: 0.2971 - val_accuracy: 0.8952\n",
            "Epoch 17/30\n",
            "860/860 [==============================] - 3s 3ms/step - loss: 0.2754 - accuracy: 0.9003 - val_loss: 0.3959 - val_accuracy: 0.8626\n",
            "Epoch 18/30\n",
            "860/860 [==============================] - 3s 3ms/step - loss: 0.2702 - accuracy: 0.9004 - val_loss: 0.3473 - val_accuracy: 0.8800\n",
            "Epoch 19/30\n",
            "860/860 [==============================] - 3s 3ms/step - loss: 0.2639 - accuracy: 0.9039 - val_loss: 0.3091 - val_accuracy: 0.8896\n",
            "Epoch 20/30\n",
            "860/860 [==============================] - 3s 3ms/step - loss: 0.2583 - accuracy: 0.9054 - val_loss: 0.3185 - val_accuracy: 0.8864\n",
            "Epoch 21/30\n",
            "860/860 [==============================] - 3s 3ms/step - loss: 0.2526 - accuracy: 0.9085 - val_loss: 0.2861 - val_accuracy: 0.8956\n",
            "Epoch 22/30\n",
            "860/860 [==============================] - 3s 3ms/step - loss: 0.2469 - accuracy: 0.9091 - val_loss: 0.2801 - val_accuracy: 0.9000\n",
            "Epoch 23/30\n",
            "860/860 [==============================] - 3s 3ms/step - loss: 0.2417 - accuracy: 0.9113 - val_loss: 0.2786 - val_accuracy: 0.9012\n",
            "Epoch 24/30\n",
            "860/860 [==============================] - 3s 3ms/step - loss: 0.2370 - accuracy: 0.9135 - val_loss: 0.2975 - val_accuracy: 0.8948\n",
            "Epoch 25/30\n",
            "860/860 [==============================] - 3s 3ms/step - loss: 0.2320 - accuracy: 0.9154 - val_loss: 0.2838 - val_accuracy: 0.8992\n",
            "Epoch 26/30\n",
            "860/860 [==============================] - 3s 3ms/step - loss: 0.2285 - accuracy: 0.9166 - val_loss: 0.2730 - val_accuracy: 0.9030\n",
            "Epoch 27/30\n",
            "860/860 [==============================] - 3s 3ms/step - loss: 0.2245 - accuracy: 0.9184 - val_loss: 0.2654 - val_accuracy: 0.9056\n",
            "Epoch 28/30\n",
            "860/860 [==============================] - 3s 3ms/step - loss: 0.2200 - accuracy: 0.9199 - val_loss: 0.3021 - val_accuracy: 0.8932\n",
            "Epoch 29/30\n",
            "860/860 [==============================] - 3s 3ms/step - loss: 0.2149 - accuracy: 0.9220 - val_loss: 0.2720 - val_accuracy: 0.9052\n",
            "Epoch 30/30\n",
            "860/860 [==============================] - 3s 3ms/step - loss: 0.2117 - accuracy: 0.9224 - val_loss: 0.2680 - val_accuracy: 0.9080\n"
          ],
          "name": "stdout"
        }
      ]
    },
    {
      "cell_type": "code",
      "metadata": {
        "colab": {
          "base_uri": "https://localhost:8080/",
          "height": 378
        },
        "id": "xFAR3hfX8Agc",
        "outputId": "2b171347-81da-4052-be35-4fafe69e64ef"
      },
      "source": [
        "pd.DataFrame(model_history.history).plot(figsize=(10,6))\n",
        "plt.grid(True)\n",
        "plt.gca().set_ylim(0,1)\n",
        "plt.show()"
      ],
      "execution_count": 28,
      "outputs": [
        {
          "output_type": "display_data",
          "data": {
            "image/png": "[encoded data removed]",
            "text/plain": [
              "<Figure size 720x432 with 1 Axes>"
            ]
          },
          "metadata": {
            "tags": [],
            "needs_background": "light"
          }
        }
      ]
    },
    {
      "cell_type": "code",
      "metadata": {
        "colab": {
          "base_uri": "https://localhost:8080/"
        },
        "id": "8vqeBijQ9eLG",
        "outputId": "38d3e446-7a3d-4a01-d200-f4bf4680ea18"
      },
      "source": [
        "ev=model.evaluate(X_test,y_test)\n",
        "ev"
      ],
      "execution_count": 29,
      "outputs": [
        {
          "output_type": "stream",
          "text": [
            "313/313 [==============================] - 1s 2ms/step - loss: 0.2754 - accuracy: 0.9005\n"
          ],
          "name": "stdout"
        },
        {
          "output_type": "execute_result",
          "data": {
            "text/plain": [
              "[0.27538326382637024, 0.9004999995231628]"
            ]
          },
          "metadata": {
            "tags": []
          },
          "execution_count": 29
        }
      ]
    },
    {
      "cell_type": "code",
      "metadata": {
        "id": "hqhUrN6e95C1"
      },
      "source": [
        "X_new=X_test[:5]"
      ],
      "execution_count": 30,
      "outputs": []
    },
    {
      "cell_type": "code",
      "metadata": {
        "colab": {
          "base_uri": "https://localhost:8080/"
        },
        "id": "VM_3YYDL-KsT",
        "outputId": "a14e16ab-f347-417f-d01a-05c9cf0d4703"
      },
      "source": [
        "y_pred=model.predict_classes(X_new)\n",
        "y_pred"
      ],
      "execution_count": 31,
      "outputs": [
        {
          "output_type": "stream",
          "text": [
            "/usr/local/lib/python3.7/dist-packages/tensorflow/python/keras/engine/sequential.py:455: UserWarning: `model.predict_classes()` is deprecated and will be removed after 2021-01-01. Please use instead:* `np.argmax(model.predict(x), axis=-1)`,   if your model does multi-class classification   (e.g. if it uses a `softmax` last-layer activation).* `(model.predict(x) > 0.5).astype(\"int32\")`,   if your model does binary classification   (e.g. if it uses a `sigmoid` last-layer activation).\n",
            "  warnings.warn('`model.predict_classes()` is deprecated and '\n"
          ],
          "name": "stderr"
        },
        {
          "output_type": "execute_result",
          "data": {
            "text/plain": [
              "array([9, 2, 1, 1, 6])"
            ]
          },
          "metadata": {
            "tags": []
          },
          "execution_count": 31
        }
      ]
    },
    {
      "cell_type": "code",
      "metadata": {
        "colab": {
          "base_uri": "https://localhost:8080/"
        },
        "id": "XhXicNGL-VEr",
        "outputId": "baa27299-1000-4706-ddfb-8117f8f90e44"
      },
      "source": [
        "y_test[:5]"
      ],
      "execution_count": 32,
      "outputs": [
        {
          "output_type": "execute_result",
          "data": {
            "text/plain": [
              "array([9, 2, 1, 1, 6], dtype=uint8)"
            ]
          },
          "metadata": {
            "tags": []
          },
          "execution_count": 32
        }
      ]
    },
    {
      "cell_type": "code",
      "metadata": {
        "id": "SMneNPOi-huu"
      },
      "source": [
        "########################################## We have better result accuracy on test dataset compared to our previous model using ANN ################################################################"
      ],
      "execution_count": null,
      "outputs": []
    }
  ]
}